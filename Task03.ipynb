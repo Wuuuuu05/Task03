{
  "nbformat": 4,
  "nbformat_minor": 0,
  "metadata": {
    "colab": {
      "provenance": [],
      "authorship_tag": "ABX9TyPOgZq/C/MB9ilcbAEFGz3i",
      "include_colab_link": true
    },
    "kernelspec": {
      "name": "python3",
      "display_name": "Python 3"
    },
    "language_info": {
      "name": "python"
    }
  },
  "cells": [
    {
      "cell_type": "markdown",
      "metadata": {
        "id": "view-in-github",
        "colab_type": "text"
      },
      "source": [
        "<a href=\"https://colab.research.google.com/github/Wuuuuu05/Task03/blob/main/Task03.ipynb\" target=\"_parent\"><img src=\"https://colab.research.google.com/assets/colab-badge.svg\" alt=\"Open In Colab\"/></a>"
      ]
    },
    {
      "cell_type": "code",
      "execution_count": 16,
      "metadata": {
        "colab": {
          "base_uri": "https://localhost:8080/"
        },
        "id": "F0Xfr7I6elh3",
        "outputId": "a08c5de5-b181-46a2-e119-685a4510fb2c"
      },
      "outputs": [
        {
          "output_type": "stream",
          "name": "stdout",
          "text": [
            "中文名稱： 蜘蛛人：穿越新宇宙\n",
            "英文名稱： Spider-Man: Across the Spider-Verse\n",
            "上映日期： 2023-06-21\n",
            "期待度： 91%\n",
            "---------------------------------------\n",
            "中文名稱： 小行星城\n",
            "英文名稱： Asteroid City\n",
            "上映日期： 2023-06-21\n",
            "期待度： 100%\n",
            "---------------------------------------\n",
            "中文名稱： 化劫\n",
            "英文名稱： Antikalpa\n",
            "上映日期： 2023-06-21\n",
            "期待度： 93%\n",
            "---------------------------------------\n",
            "中文名稱： 她喜歡的是\n",
            "英文名稱： What She Likes...\n",
            "上映日期： 2023-06-21\n",
            "期待度： 100%\n",
            "---------------------------------------\n",
            "中文名稱： 蝙蝠：血色情慾 數位修復版\n",
            "英文名稱： Thirst\n",
            "上映日期： 2023-06-21\n",
            "期待度： 100%\n",
            "---------------------------------------\n",
            "中文名稱： 貴公子\n",
            "英文名稱： The Childe\n",
            "上映日期： 2023-06-21\n",
            "期待度： 99%\n",
            "---------------------------------------\n",
            "中文名稱： 別叫我“賭神”\n",
            "英文名稱： One More Chance\n",
            "上映日期： 2023-06-21\n",
            "期待度： 100%\n",
            "---------------------------------------\n",
            "中文名稱： 淨化論\n",
            "英文名稱： The Conference\n",
            "上映日期： 2023-06-21\n",
            "期待度： 100%\n",
            "---------------------------------------\n",
            "中文名稱： SSSS.GRIDMAN 劇場總集篇\n",
            "英文名稱： SSSS.GRIDMAN\n",
            "上映日期： 2023-06-21\n",
            "期待度： 100%\n",
            "---------------------------------------\n"
          ]
        }
      ],
      "source": [
        "import requests\n",
        "from bs4 import BeautifulSoup\n",
        "\n",
        "url = 'https://movies.yahoo.com.tw/movie_thisweek.html'\n",
        "r = requests.get(url)\n",
        "response = r.text\n",
        "\n",
        "d = BeautifulSoup(r.text, 'html5lib')\n",
        "\n",
        "\n",
        "#找出該頁面上的「中、英文名稱」、「上映日期」和「期待度」\n",
        "movie_blocks = d.find_all(\"div\", class_ = \"release_info\")\n",
        "for block in movie_blocks:\n",
        "  chinese_name = block.find(\"div\", class_ = \"release_movie_name\").a.text.strip()\n",
        "  english_name = block.find(\"div\", class_ = \"en\").text.strip()\n",
        "  expect = block.find(\"div\", class_ = \"leveltext\").span.text.strip()\n",
        "  release_date = block.find(\"div\", class_ = \"release_movie_time\").text.strip()[-10:]\n",
        "\n",
        "  print(\"中文名稱：\", chinese_name)\n",
        "  print(\"英文名稱：\", english_name)\n",
        "  print(\"上映日期：\", release_date)\n",
        "  print(\"期待度：\", expect)\n",
        "  print(\"---------------------------------------\")\n",
        "\n"
      ]
    }
  ]
}